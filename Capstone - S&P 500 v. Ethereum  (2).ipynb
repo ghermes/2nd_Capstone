{
 "cells": [
  {
   "cell_type": "code",
   "execution_count": 1,
   "metadata": {},
   "outputs": [],
   "source": [
    "# Sourcing and Loading data "
   ]
  },
  {
   "cell_type": "code",
   "execution_count": 2,
   "metadata": {},
   "outputs": [],
   "source": [
    "import numpy as np\n",
    "import pandas as pd \n",
    "import matplotlib.pyplot as plt \n",
    "import seaborn as sns \n",
    "import statsmodels.api as sm \n",
    "from statsmodels.graphics.api import abline_plot \n",
    "from sklearn.metrics import mean_squared_error, r2_score \n",
    "from sklearn.model_selection import train_test_split \n",
    "from sklearn import linear_model, preprocessing \n",
    "import warnings # For handling error messages \n",
    "warnings.simplefilter(action=\"ignore\", category=FutureWarning)\n",
    "warnings.filterwarnings(action=\"ignore\", module=\"scipy\", message=\"^internal gelsd\") "
   ]
  },
  {
   "cell_type": "code",
   "execution_count": 3,
   "metadata": {},
   "outputs": [],
   "source": [
    "eth = pd.read_csv('EthereumData.csv') "
   ]
  },
  {
   "cell_type": "code",
   "execution_count": 4,
   "metadata": {},
   "outputs": [
    {
     "data": {
      "text/html": [
       "<div>\n",
       "<style scoped>\n",
       "    .dataframe tbody tr th:only-of-type {\n",
       "        vertical-align: middle;\n",
       "    }\n",
       "\n",
       "    .dataframe tbody tr th {\n",
       "        vertical-align: top;\n",
       "    }\n",
       "\n",
       "    .dataframe thead th {\n",
       "        text-align: right;\n",
       "    }\n",
       "</style>\n",
       "<table border=\"1\" class=\"dataframe\">\n",
       "  <thead>\n",
       "    <tr style=\"text-align: right;\">\n",
       "      <th></th>\n",
       "      <th>Date</th>\n",
       "      <th>Price</th>\n",
       "      <th>Open</th>\n",
       "      <th>High</th>\n",
       "      <th>Low</th>\n",
       "      <th>Vol.</th>\n",
       "      <th>Change %</th>\n",
       "    </tr>\n",
       "  </thead>\n",
       "  <tbody>\n",
       "    <tr>\n",
       "      <th>0</th>\n",
       "      <td>6-Jan-21</td>\n",
       "      <td>1,207.77</td>\n",
       "      <td>1,099.77</td>\n",
       "      <td>1,210.78</td>\n",
       "      <td>1,060.67</td>\n",
       "      <td>3.75M</td>\n",
       "      <td>9.85%</td>\n",
       "    </tr>\n",
       "    <tr>\n",
       "      <th>1</th>\n",
       "      <td>5-Jan-21</td>\n",
       "      <td>1,099.52</td>\n",
       "      <td>1,042.48</td>\n",
       "      <td>1,131.56</td>\n",
       "      <td>976.91</td>\n",
       "      <td>3.25M</td>\n",
       "      <td>5.48%</td>\n",
       "    </tr>\n",
       "    <tr>\n",
       "      <th>2</th>\n",
       "      <td>4-Jan-21</td>\n",
       "      <td>1,042.40</td>\n",
       "      <td>977.76</td>\n",
       "      <td>1,158.27</td>\n",
       "      <td>894.24</td>\n",
       "      <td>5.19M</td>\n",
       "      <td>6.92%</td>\n",
       "    </tr>\n",
       "    <tr>\n",
       "      <th>3</th>\n",
       "      <td>3-Jan-21</td>\n",
       "      <td>974.97</td>\n",
       "      <td>774.54</td>\n",
       "      <td>1,008.49</td>\n",
       "      <td>769.57</td>\n",
       "      <td>4.02M</td>\n",
       "      <td>25.88%</td>\n",
       "    </tr>\n",
       "    <tr>\n",
       "      <th>4</th>\n",
       "      <td>2-Jan-21</td>\n",
       "      <td>774.5</td>\n",
       "      <td>729</td>\n",
       "      <td>787.26</td>\n",
       "      <td>715.15</td>\n",
       "      <td>2.25M</td>\n",
       "      <td>6.22%</td>\n",
       "    </tr>\n",
       "  </tbody>\n",
       "</table>\n",
       "</div>"
      ],
      "text/plain": [
       "       Date     Price      Open      High       Low   Vol. Change %\n",
       "0  6-Jan-21  1,207.77  1,099.77  1,210.78  1,060.67  3.75M    9.85%\n",
       "1  5-Jan-21  1,099.52  1,042.48  1,131.56    976.91  3.25M    5.48%\n",
       "2  4-Jan-21  1,042.40    977.76  1,158.27    894.24  5.19M    6.92%\n",
       "3  3-Jan-21    974.97    774.54  1,008.49    769.57  4.02M   25.88%\n",
       "4  2-Jan-21     774.5       729    787.26    715.15  2.25M    6.22%"
      ]
     },
     "execution_count": 4,
     "metadata": {},
     "output_type": "execute_result"
    }
   ],
   "source": [
    "eth.head()"
   ]
  },
  {
   "cell_type": "code",
   "execution_count": 5,
   "metadata": {},
   "outputs": [
    {
     "data": {
      "text/html": [
       "<div>\n",
       "<style scoped>\n",
       "    .dataframe tbody tr th:only-of-type {\n",
       "        vertical-align: middle;\n",
       "    }\n",
       "\n",
       "    .dataframe tbody tr th {\n",
       "        vertical-align: top;\n",
       "    }\n",
       "\n",
       "    .dataframe thead th {\n",
       "        text-align: right;\n",
       "    }\n",
       "</style>\n",
       "<table border=\"1\" class=\"dataframe\">\n",
       "  <thead>\n",
       "    <tr style=\"text-align: right;\">\n",
       "      <th></th>\n",
       "      <th>Date</th>\n",
       "      <th>Price</th>\n",
       "      <th>Open</th>\n",
       "      <th>High</th>\n",
       "      <th>Low</th>\n",
       "      <th>Vol.</th>\n",
       "      <th>Change %</th>\n",
       "    </tr>\n",
       "  </thead>\n",
       "  <tbody>\n",
       "    <tr>\n",
       "      <th>1763</th>\n",
       "      <td>10-Mar-16</td>\n",
       "      <td>11.75</td>\n",
       "      <td>11.2</td>\n",
       "      <td>11.85</td>\n",
       "      <td>11.07</td>\n",
       "      <td>0.00K</td>\n",
       "      <td>4.91%</td>\n",
       "    </tr>\n",
       "    <tr>\n",
       "      <th>1762</th>\n",
       "      <td>11-Mar-16</td>\n",
       "      <td>11.95</td>\n",
       "      <td>11.75</td>\n",
       "      <td>11.95</td>\n",
       "      <td>11.75</td>\n",
       "      <td>0.18K</td>\n",
       "      <td>1.70%</td>\n",
       "    </tr>\n",
       "    <tr>\n",
       "      <th>1761</th>\n",
       "      <td>12-Mar-16</td>\n",
       "      <td>12.92</td>\n",
       "      <td>11.95</td>\n",
       "      <td>13.45</td>\n",
       "      <td>11.95</td>\n",
       "      <td>0.83K</td>\n",
       "      <td>8.12%</td>\n",
       "    </tr>\n",
       "    <tr>\n",
       "      <th>1760</th>\n",
       "      <td>13-Mar-16</td>\n",
       "      <td>15.07</td>\n",
       "      <td>12.92</td>\n",
       "      <td>15.07</td>\n",
       "      <td>12.92</td>\n",
       "      <td>1.30K</td>\n",
       "      <td>16.64%</td>\n",
       "    </tr>\n",
       "    <tr>\n",
       "      <th>1759</th>\n",
       "      <td>14-Mar-16</td>\n",
       "      <td>12.5</td>\n",
       "      <td>15.07</td>\n",
       "      <td>15.07</td>\n",
       "      <td>11.4</td>\n",
       "      <td>92.18K</td>\n",
       "      <td>-17.05%</td>\n",
       "    </tr>\n",
       "  </tbody>\n",
       "</table>\n",
       "</div>"
      ],
      "text/plain": [
       "           Date  Price   Open   High    Low    Vol. Change %\n",
       "1763  10-Mar-16  11.75   11.2  11.85  11.07   0.00K    4.91%\n",
       "1762  11-Mar-16  11.95  11.75  11.95  11.75   0.18K    1.70%\n",
       "1761  12-Mar-16  12.92  11.95  13.45  11.95   0.83K    8.12%\n",
       "1760  13-Mar-16  15.07  12.92  15.07  12.92   1.30K   16.64%\n",
       "1759  14-Mar-16   12.5  15.07  15.07   11.4  92.18K  -17.05%"
      ]
     },
     "execution_count": 5,
     "metadata": {},
     "output_type": "execute_result"
    }
   ],
   "source": [
    "eth = eth[::-1] \n",
    "eth.head() "
   ]
  },
  {
   "cell_type": "code",
   "execution_count": 6,
   "metadata": {},
   "outputs": [],
   "source": [
    "sp500 = pd.read_csv('S&P500data.csv') "
   ]
  },
  {
   "cell_type": "code",
   "execution_count": 7,
   "metadata": {},
   "outputs": [
    {
     "data": {
      "text/html": [
       "<div>\n",
       "<style scoped>\n",
       "    .dataframe tbody tr th:only-of-type {\n",
       "        vertical-align: middle;\n",
       "    }\n",
       "\n",
       "    .dataframe tbody tr th {\n",
       "        vertical-align: top;\n",
       "    }\n",
       "\n",
       "    .dataframe thead th {\n",
       "        text-align: right;\n",
       "    }\n",
       "</style>\n",
       "<table border=\"1\" class=\"dataframe\">\n",
       "  <thead>\n",
       "    <tr style=\"text-align: right;\">\n",
       "      <th></th>\n",
       "      <th>Date</th>\n",
       "      <th>Close/Last</th>\n",
       "      <th>Volume</th>\n",
       "      <th>Open</th>\n",
       "      <th>High</th>\n",
       "      <th>Low</th>\n",
       "    </tr>\n",
       "  </thead>\n",
       "  <tbody>\n",
       "    <tr>\n",
       "      <th>0</th>\n",
       "      <td>1/6/2021</td>\n",
       "      <td>3748.14</td>\n",
       "      <td>--</td>\n",
       "      <td>3712.20</td>\n",
       "      <td>3783.04</td>\n",
       "      <td>3705.34</td>\n",
       "    </tr>\n",
       "    <tr>\n",
       "      <th>1</th>\n",
       "      <td>1/5/2021</td>\n",
       "      <td>3726.86</td>\n",
       "      <td>--</td>\n",
       "      <td>3698.02</td>\n",
       "      <td>3737.83</td>\n",
       "      <td>3695.07</td>\n",
       "    </tr>\n",
       "    <tr>\n",
       "      <th>2</th>\n",
       "      <td>1/4/2021</td>\n",
       "      <td>3700.65</td>\n",
       "      <td>--</td>\n",
       "      <td>3764.61</td>\n",
       "      <td>3769.99</td>\n",
       "      <td>3662.71</td>\n",
       "    </tr>\n",
       "    <tr>\n",
       "      <th>3</th>\n",
       "      <td>12/31/2020</td>\n",
       "      <td>3756.07</td>\n",
       "      <td>--</td>\n",
       "      <td>3733.27</td>\n",
       "      <td>3760.20</td>\n",
       "      <td>3726.88</td>\n",
       "    </tr>\n",
       "    <tr>\n",
       "      <th>4</th>\n",
       "      <td>12/30/2020</td>\n",
       "      <td>3732.04</td>\n",
       "      <td>--</td>\n",
       "      <td>3736.19</td>\n",
       "      <td>3744.63</td>\n",
       "      <td>3730.21</td>\n",
       "    </tr>\n",
       "  </tbody>\n",
       "</table>\n",
       "</div>"
      ],
      "text/plain": [
       "         Date   Close/Last  Volume     Open     High      Low\n",
       "0    1/6/2021      3748.14      --  3712.20  3783.04  3705.34\n",
       "1    1/5/2021      3726.86      --  3698.02  3737.83  3695.07\n",
       "2    1/4/2021      3700.65      --  3764.61  3769.99  3662.71\n",
       "3  12/31/2020      3756.07      --  3733.27  3760.20  3726.88\n",
       "4  12/30/2020      3732.04      --  3736.19  3744.63  3730.21"
      ]
     },
     "execution_count": 7,
     "metadata": {},
     "output_type": "execute_result"
    }
   ],
   "source": [
    "sp500.head() "
   ]
  },
  {
   "cell_type": "code",
   "execution_count": 8,
   "metadata": {},
   "outputs": [
    {
     "data": {
      "text/html": [
       "<div>\n",
       "<style scoped>\n",
       "    .dataframe tbody tr th:only-of-type {\n",
       "        vertical-align: middle;\n",
       "    }\n",
       "\n",
       "    .dataframe tbody tr th {\n",
       "        vertical-align: top;\n",
       "    }\n",
       "\n",
       "    .dataframe thead th {\n",
       "        text-align: right;\n",
       "    }\n",
       "</style>\n",
       "<table border=\"1\" class=\"dataframe\">\n",
       "  <thead>\n",
       "    <tr style=\"text-align: right;\">\n",
       "      <th></th>\n",
       "      <th>Date</th>\n",
       "      <th>Close/Last</th>\n",
       "      <th>Volume</th>\n",
       "      <th>Open</th>\n",
       "      <th>High</th>\n",
       "      <th>Low</th>\n",
       "    </tr>\n",
       "  </thead>\n",
       "  <tbody>\n",
       "    <tr>\n",
       "      <th>1259</th>\n",
       "      <td>1/6/2016</td>\n",
       "      <td>1990.26</td>\n",
       "      <td>--</td>\n",
       "      <td>2011.71</td>\n",
       "      <td>2011.71</td>\n",
       "      <td>1979.05</td>\n",
       "    </tr>\n",
       "    <tr>\n",
       "      <th>1258</th>\n",
       "      <td>1/7/2016</td>\n",
       "      <td>1943.09</td>\n",
       "      <td>--</td>\n",
       "      <td>1985.32</td>\n",
       "      <td>1985.32</td>\n",
       "      <td>1938.83</td>\n",
       "    </tr>\n",
       "    <tr>\n",
       "      <th>1257</th>\n",
       "      <td>1/8/2016</td>\n",
       "      <td>1922.03</td>\n",
       "      <td>--</td>\n",
       "      <td>1945.97</td>\n",
       "      <td>1960.40</td>\n",
       "      <td>1918.46</td>\n",
       "    </tr>\n",
       "    <tr>\n",
       "      <th>1256</th>\n",
       "      <td>1/11/2016</td>\n",
       "      <td>1923.67</td>\n",
       "      <td>--</td>\n",
       "      <td>1926.12</td>\n",
       "      <td>1935.65</td>\n",
       "      <td>1901.10</td>\n",
       "    </tr>\n",
       "    <tr>\n",
       "      <th>1255</th>\n",
       "      <td>1/12/2016</td>\n",
       "      <td>1938.68</td>\n",
       "      <td>--</td>\n",
       "      <td>1927.83</td>\n",
       "      <td>1947.38</td>\n",
       "      <td>1914.35</td>\n",
       "    </tr>\n",
       "  </tbody>\n",
       "</table>\n",
       "</div>"
      ],
      "text/plain": [
       "           Date   Close/Last  Volume     Open     High      Low\n",
       "1259   1/6/2016      1990.26      --  2011.71  2011.71  1979.05\n",
       "1258   1/7/2016      1943.09      --  1985.32  1985.32  1938.83\n",
       "1257   1/8/2016      1922.03      --  1945.97  1960.40  1918.46\n",
       "1256  1/11/2016      1923.67      --  1926.12  1935.65  1901.10\n",
       "1255  1/12/2016      1938.68      --  1927.83  1947.38  1914.35"
      ]
     },
     "execution_count": 8,
     "metadata": {},
     "output_type": "execute_result"
    }
   ],
   "source": [
    "sp500 = sp500[::-1]\n",
    "sp500.head()"
   ]
  },
  {
   "cell_type": "code",
   "execution_count": 9,
   "metadata": {},
   "outputs": [
    {
     "data": {
      "text/html": [
       "<div>\n",
       "<style scoped>\n",
       "    .dataframe tbody tr th:only-of-type {\n",
       "        vertical-align: middle;\n",
       "    }\n",
       "\n",
       "    .dataframe tbody tr th {\n",
       "        vertical-align: top;\n",
       "    }\n",
       "\n",
       "    .dataframe thead th {\n",
       "        text-align: right;\n",
       "    }\n",
       "</style>\n",
       "<table border=\"1\" class=\"dataframe\">\n",
       "  <thead>\n",
       "    <tr style=\"text-align: right;\">\n",
       "      <th></th>\n",
       "      <th>Date</th>\n",
       "      <th>Price</th>\n",
       "    </tr>\n",
       "  </thead>\n",
       "  <tbody>\n",
       "    <tr>\n",
       "      <th>1763</th>\n",
       "      <td>10-Mar-16</td>\n",
       "      <td>11.75</td>\n",
       "    </tr>\n",
       "    <tr>\n",
       "      <th>1762</th>\n",
       "      <td>11-Mar-16</td>\n",
       "      <td>11.95</td>\n",
       "    </tr>\n",
       "    <tr>\n",
       "      <th>1761</th>\n",
       "      <td>12-Mar-16</td>\n",
       "      <td>12.92</td>\n",
       "    </tr>\n",
       "    <tr>\n",
       "      <th>1760</th>\n",
       "      <td>13-Mar-16</td>\n",
       "      <td>15.07</td>\n",
       "    </tr>\n",
       "    <tr>\n",
       "      <th>1759</th>\n",
       "      <td>14-Mar-16</td>\n",
       "      <td>12.5</td>\n",
       "    </tr>\n",
       "  </tbody>\n",
       "</table>\n",
       "</div>"
      ],
      "text/plain": [
       "           Date  Price\n",
       "1763  10-Mar-16  11.75\n",
       "1762  11-Mar-16  11.95\n",
       "1761  12-Mar-16  12.92\n",
       "1760  13-Mar-16  15.07\n",
       "1759  14-Mar-16   12.5"
      ]
     },
     "execution_count": 9,
     "metadata": {},
     "output_type": "execute_result"
    }
   ],
   "source": [
    "eth = pd.DataFrame(eth, columns=['Date', 'Price']) \n",
    "eth.head() "
   ]
  },
  {
   "cell_type": "code",
   "execution_count": 10,
   "metadata": {},
   "outputs": [
    {
     "data": {
      "text/html": [
       "<div>\n",
       "<style scoped>\n",
       "    .dataframe tbody tr th:only-of-type {\n",
       "        vertical-align: middle;\n",
       "    }\n",
       "\n",
       "    .dataframe tbody tr th {\n",
       "        vertical-align: top;\n",
       "    }\n",
       "\n",
       "    .dataframe thead th {\n",
       "        text-align: right;\n",
       "    }\n",
       "</style>\n",
       "<table border=\"1\" class=\"dataframe\">\n",
       "  <thead>\n",
       "    <tr style=\"text-align: right;\">\n",
       "      <th></th>\n",
       "      <th>Date</th>\n",
       "      <th>Close/Last</th>\n",
       "    </tr>\n",
       "  </thead>\n",
       "  <tbody>\n",
       "    <tr>\n",
       "      <th>1259</th>\n",
       "      <td>1/6/2016</td>\n",
       "      <td>1990.26</td>\n",
       "    </tr>\n",
       "    <tr>\n",
       "      <th>1258</th>\n",
       "      <td>1/7/2016</td>\n",
       "      <td>1943.09</td>\n",
       "    </tr>\n",
       "    <tr>\n",
       "      <th>1257</th>\n",
       "      <td>1/8/2016</td>\n",
       "      <td>1922.03</td>\n",
       "    </tr>\n",
       "    <tr>\n",
       "      <th>1256</th>\n",
       "      <td>1/11/2016</td>\n",
       "      <td>1923.67</td>\n",
       "    </tr>\n",
       "    <tr>\n",
       "      <th>1255</th>\n",
       "      <td>1/12/2016</td>\n",
       "      <td>1938.68</td>\n",
       "    </tr>\n",
       "  </tbody>\n",
       "</table>\n",
       "</div>"
      ],
      "text/plain": [
       "           Date   Close/Last\n",
       "1259   1/6/2016      1990.26\n",
       "1258   1/7/2016      1943.09\n",
       "1257   1/8/2016      1922.03\n",
       "1256  1/11/2016      1923.67\n",
       "1255  1/12/2016      1938.68"
      ]
     },
     "execution_count": 10,
     "metadata": {},
     "output_type": "execute_result"
    }
   ],
   "source": [
    "sp500 = pd.DataFrame(sp500, columns=['Date', ' Close/Last']) \n",
    "sp500.head() "
   ]
  },
  {
   "cell_type": "code",
   "execution_count": 11,
   "metadata": {},
   "outputs": [],
   "source": [
    "# Cleaning, transforming, and visualizing "
   ]
  },
  {
   "cell_type": "code",
   "execution_count": 12,
   "metadata": {},
   "outputs": [
    {
     "data": {
      "text/plain": [
       "Date            object\n",
       " Close/Last    float64\n",
       "dtype: object"
      ]
     },
     "execution_count": 12,
     "metadata": {},
     "output_type": "execute_result"
    }
   ],
   "source": [
    "sp500.dtypes"
   ]
  },
  {
   "cell_type": "code",
   "execution_count": 13,
   "metadata": {},
   "outputs": [
    {
     "data": {
      "text/plain": [
       "False"
      ]
     },
     "execution_count": 13,
     "metadata": {},
     "output_type": "execute_result"
    }
   ],
   "source": [
    "sp500.isnull().values.any()"
   ]
  },
  {
   "cell_type": "code",
   "execution_count": 14,
   "metadata": {},
   "outputs": [],
   "source": [
    "# sp500 looks good"
   ]
  },
  {
   "cell_type": "code",
   "execution_count": 15,
   "metadata": {},
   "outputs": [
    {
     "data": {
      "text/plain": [
       "Date     object\n",
       "Price    object\n",
       "dtype: object"
      ]
     },
     "execution_count": 15,
     "metadata": {},
     "output_type": "execute_result"
    }
   ],
   "source": [
    "eth.dtypes "
   ]
  },
  {
   "cell_type": "code",
   "execution_count": 16,
   "metadata": {},
   "outputs": [],
   "source": [
    "eth['Price'] = eth['Price'].str.replace(',','') "
   ]
  },
  {
   "cell_type": "code",
   "execution_count": 17,
   "metadata": {},
   "outputs": [],
   "source": [
    "eth['Price'] = pd.to_numeric(eth['Price'])"
   ]
  },
  {
   "cell_type": "code",
   "execution_count": 18,
   "metadata": {},
   "outputs": [
    {
     "data": {
      "text/plain": [
       "Date      object\n",
       "Price    float64\n",
       "dtype: object"
      ]
     },
     "execution_count": 18,
     "metadata": {},
     "output_type": "execute_result"
    }
   ],
   "source": [
    "eth.dtypes "
   ]
  },
  {
   "cell_type": "code",
   "execution_count": 19,
   "metadata": {},
   "outputs": [
    {
     "data": {
      "text/plain": [
       "False"
      ]
     },
     "execution_count": 19,
     "metadata": {},
     "output_type": "execute_result"
    }
   ],
   "source": [
    "eth.isnull().values.any()"
   ]
  },
  {
   "cell_type": "code",
   "execution_count": 20,
   "metadata": {},
   "outputs": [],
   "source": [
    "# ethereum looks good "
   ]
  },
  {
   "cell_type": "code",
   "execution_count": 21,
   "metadata": {},
   "outputs": [],
   "source": [
    "# change column names "
   ]
  },
  {
   "cell_type": "code",
   "execution_count": 22,
   "metadata": {},
   "outputs": [
    {
     "data": {
      "text/html": [
       "<div>\n",
       "<style scoped>\n",
       "    .dataframe tbody tr th:only-of-type {\n",
       "        vertical-align: middle;\n",
       "    }\n",
       "\n",
       "    .dataframe tbody tr th {\n",
       "        vertical-align: top;\n",
       "    }\n",
       "\n",
       "    .dataframe thead th {\n",
       "        text-align: right;\n",
       "    }\n",
       "</style>\n",
       "<table border=\"1\" class=\"dataframe\">\n",
       "  <thead>\n",
       "    <tr style=\"text-align: right;\">\n",
       "      <th></th>\n",
       "      <th>Date</th>\n",
       "      <th>ETH</th>\n",
       "    </tr>\n",
       "  </thead>\n",
       "  <tbody>\n",
       "    <tr>\n",
       "      <th>1763</th>\n",
       "      <td>10-Mar-16</td>\n",
       "      <td>11.75</td>\n",
       "    </tr>\n",
       "    <tr>\n",
       "      <th>1762</th>\n",
       "      <td>11-Mar-16</td>\n",
       "      <td>11.95</td>\n",
       "    </tr>\n",
       "    <tr>\n",
       "      <th>1761</th>\n",
       "      <td>12-Mar-16</td>\n",
       "      <td>12.92</td>\n",
       "    </tr>\n",
       "    <tr>\n",
       "      <th>1760</th>\n",
       "      <td>13-Mar-16</td>\n",
       "      <td>15.07</td>\n",
       "    </tr>\n",
       "    <tr>\n",
       "      <th>1759</th>\n",
       "      <td>14-Mar-16</td>\n",
       "      <td>12.50</td>\n",
       "    </tr>\n",
       "  </tbody>\n",
       "</table>\n",
       "</div>"
      ],
      "text/plain": [
       "           Date    ETH\n",
       "1763  10-Mar-16  11.75\n",
       "1762  11-Mar-16  11.95\n",
       "1761  12-Mar-16  12.92\n",
       "1760  13-Mar-16  15.07\n",
       "1759  14-Mar-16  12.50"
      ]
     },
     "execution_count": 22,
     "metadata": {},
     "output_type": "execute_result"
    }
   ],
   "source": [
    "eth = eth.rename(columns={'Price': 'ETH'}) \n",
    "eth.head() "
   ]
  },
  {
   "cell_type": "code",
   "execution_count": 23,
   "metadata": {},
   "outputs": [
    {
     "data": {
      "text/html": [
       "<div>\n",
       "<style scoped>\n",
       "    .dataframe tbody tr th:only-of-type {\n",
       "        vertical-align: middle;\n",
       "    }\n",
       "\n",
       "    .dataframe tbody tr th {\n",
       "        vertical-align: top;\n",
       "    }\n",
       "\n",
       "    .dataframe thead th {\n",
       "        text-align: right;\n",
       "    }\n",
       "</style>\n",
       "<table border=\"1\" class=\"dataframe\">\n",
       "  <thead>\n",
       "    <tr style=\"text-align: right;\">\n",
       "      <th></th>\n",
       "      <th>Date</th>\n",
       "      <th>SP500</th>\n",
       "    </tr>\n",
       "  </thead>\n",
       "  <tbody>\n",
       "    <tr>\n",
       "      <th>1259</th>\n",
       "      <td>1/6/2016</td>\n",
       "      <td>1990.26</td>\n",
       "    </tr>\n",
       "    <tr>\n",
       "      <th>1258</th>\n",
       "      <td>1/7/2016</td>\n",
       "      <td>1943.09</td>\n",
       "    </tr>\n",
       "    <tr>\n",
       "      <th>1257</th>\n",
       "      <td>1/8/2016</td>\n",
       "      <td>1922.03</td>\n",
       "    </tr>\n",
       "    <tr>\n",
       "      <th>1256</th>\n",
       "      <td>1/11/2016</td>\n",
       "      <td>1923.67</td>\n",
       "    </tr>\n",
       "    <tr>\n",
       "      <th>1255</th>\n",
       "      <td>1/12/2016</td>\n",
       "      <td>1938.68</td>\n",
       "    </tr>\n",
       "  </tbody>\n",
       "</table>\n",
       "</div>"
      ],
      "text/plain": [
       "           Date    SP500\n",
       "1259   1/6/2016  1990.26\n",
       "1258   1/7/2016  1943.09\n",
       "1257   1/8/2016  1922.03\n",
       "1256  1/11/2016  1923.67\n",
       "1255  1/12/2016  1938.68"
      ]
     },
     "execution_count": 23,
     "metadata": {},
     "output_type": "execute_result"
    }
   ],
   "source": [
    "sp500 = sp500.rename(columns={' Close/Last': 'SP500'}) \n",
    "sp500.head() "
   ]
  },
  {
   "cell_type": "code",
   "execution_count": 24,
   "metadata": {},
   "outputs": [],
   "source": [
    "# change date format on ethereum and sp500"
   ]
  },
  {
   "cell_type": "code",
   "execution_count": 25,
   "metadata": {},
   "outputs": [
    {
     "data": {
      "text/html": [
       "<div>\n",
       "<style scoped>\n",
       "    .dataframe tbody tr th:only-of-type {\n",
       "        vertical-align: middle;\n",
       "    }\n",
       "\n",
       "    .dataframe tbody tr th {\n",
       "        vertical-align: top;\n",
       "    }\n",
       "\n",
       "    .dataframe thead th {\n",
       "        text-align: right;\n",
       "    }\n",
       "</style>\n",
       "<table border=\"1\" class=\"dataframe\">\n",
       "  <thead>\n",
       "    <tr style=\"text-align: right;\">\n",
       "      <th></th>\n",
       "      <th>Date</th>\n",
       "      <th>ETH</th>\n",
       "    </tr>\n",
       "  </thead>\n",
       "  <tbody>\n",
       "    <tr>\n",
       "      <th>1763</th>\n",
       "      <td>2016-03-10</td>\n",
       "      <td>11.75</td>\n",
       "    </tr>\n",
       "    <tr>\n",
       "      <th>1762</th>\n",
       "      <td>2016-03-11</td>\n",
       "      <td>11.95</td>\n",
       "    </tr>\n",
       "    <tr>\n",
       "      <th>1761</th>\n",
       "      <td>2016-03-12</td>\n",
       "      <td>12.92</td>\n",
       "    </tr>\n",
       "    <tr>\n",
       "      <th>1760</th>\n",
       "      <td>2016-03-13</td>\n",
       "      <td>15.07</td>\n",
       "    </tr>\n",
       "    <tr>\n",
       "      <th>1759</th>\n",
       "      <td>2016-03-14</td>\n",
       "      <td>12.50</td>\n",
       "    </tr>\n",
       "  </tbody>\n",
       "</table>\n",
       "</div>"
      ],
      "text/plain": [
       "           Date    ETH\n",
       "1763 2016-03-10  11.75\n",
       "1762 2016-03-11  11.95\n",
       "1761 2016-03-12  12.92\n",
       "1760 2016-03-13  15.07\n",
       "1759 2016-03-14  12.50"
      ]
     },
     "execution_count": 25,
     "metadata": {},
     "output_type": "execute_result"
    }
   ],
   "source": [
    "eth['Date'] = pd.to_datetime(eth['Date'])\n",
    "eth.head() "
   ]
  },
  {
   "cell_type": "code",
   "execution_count": 26,
   "metadata": {},
   "outputs": [
    {
     "data": {
      "text/html": [
       "<div>\n",
       "<style scoped>\n",
       "    .dataframe tbody tr th:only-of-type {\n",
       "        vertical-align: middle;\n",
       "    }\n",
       "\n",
       "    .dataframe tbody tr th {\n",
       "        vertical-align: top;\n",
       "    }\n",
       "\n",
       "    .dataframe thead th {\n",
       "        text-align: right;\n",
       "    }\n",
       "</style>\n",
       "<table border=\"1\" class=\"dataframe\">\n",
       "  <thead>\n",
       "    <tr style=\"text-align: right;\">\n",
       "      <th></th>\n",
       "      <th>Date</th>\n",
       "      <th>ETH</th>\n",
       "    </tr>\n",
       "  </thead>\n",
       "  <tbody>\n",
       "    <tr>\n",
       "      <th>1763</th>\n",
       "      <td>03/10/2016</td>\n",
       "      <td>11.75</td>\n",
       "    </tr>\n",
       "    <tr>\n",
       "      <th>1762</th>\n",
       "      <td>03/11/2016</td>\n",
       "      <td>11.95</td>\n",
       "    </tr>\n",
       "    <tr>\n",
       "      <th>1761</th>\n",
       "      <td>03/12/2016</td>\n",
       "      <td>12.92</td>\n",
       "    </tr>\n",
       "    <tr>\n",
       "      <th>1760</th>\n",
       "      <td>03/13/2016</td>\n",
       "      <td>15.07</td>\n",
       "    </tr>\n",
       "    <tr>\n",
       "      <th>1759</th>\n",
       "      <td>03/14/2016</td>\n",
       "      <td>12.50</td>\n",
       "    </tr>\n",
       "  </tbody>\n",
       "</table>\n",
       "</div>"
      ],
      "text/plain": [
       "            Date    ETH\n",
       "1763  03/10/2016  11.75\n",
       "1762  03/11/2016  11.95\n",
       "1761  03/12/2016  12.92\n",
       "1760  03/13/2016  15.07\n",
       "1759  03/14/2016  12.50"
      ]
     },
     "execution_count": 26,
     "metadata": {},
     "output_type": "execute_result"
    }
   ],
   "source": [
    "eth['Date'] = eth['Date'].dt.strftime('%m/%d/%Y')\n",
    "eth.head() "
   ]
  },
  {
   "cell_type": "code",
   "execution_count": 27,
   "metadata": {},
   "outputs": [
    {
     "data": {
      "text/html": [
       "<div>\n",
       "<style scoped>\n",
       "    .dataframe tbody tr th:only-of-type {\n",
       "        vertical-align: middle;\n",
       "    }\n",
       "\n",
       "    .dataframe tbody tr th {\n",
       "        vertical-align: top;\n",
       "    }\n",
       "\n",
       "    .dataframe thead th {\n",
       "        text-align: right;\n",
       "    }\n",
       "</style>\n",
       "<table border=\"1\" class=\"dataframe\">\n",
       "  <thead>\n",
       "    <tr style=\"text-align: right;\">\n",
       "      <th></th>\n",
       "      <th>ETH</th>\n",
       "    </tr>\n",
       "    <tr>\n",
       "      <th>Date</th>\n",
       "      <th></th>\n",
       "    </tr>\n",
       "  </thead>\n",
       "  <tbody>\n",
       "    <tr>\n",
       "      <th>03/10/2016</th>\n",
       "      <td>11.75</td>\n",
       "    </tr>\n",
       "    <tr>\n",
       "      <th>03/11/2016</th>\n",
       "      <td>11.95</td>\n",
       "    </tr>\n",
       "    <tr>\n",
       "      <th>03/12/2016</th>\n",
       "      <td>12.92</td>\n",
       "    </tr>\n",
       "    <tr>\n",
       "      <th>03/13/2016</th>\n",
       "      <td>15.07</td>\n",
       "    </tr>\n",
       "    <tr>\n",
       "      <th>03/14/2016</th>\n",
       "      <td>12.50</td>\n",
       "    </tr>\n",
       "  </tbody>\n",
       "</table>\n",
       "</div>"
      ],
      "text/plain": [
       "              ETH\n",
       "Date             \n",
       "03/10/2016  11.75\n",
       "03/11/2016  11.95\n",
       "03/12/2016  12.92\n",
       "03/13/2016  15.07\n",
       "03/14/2016  12.50"
      ]
     },
     "execution_count": 27,
     "metadata": {},
     "output_type": "execute_result"
    }
   ],
   "source": [
    "eth = eth.set_index('Date') \n",
    "eth.head()"
   ]
  },
  {
   "cell_type": "code",
   "execution_count": 28,
   "metadata": {},
   "outputs": [
    {
     "data": {
      "text/html": [
       "<div>\n",
       "<style scoped>\n",
       "    .dataframe tbody tr th:only-of-type {\n",
       "        vertical-align: middle;\n",
       "    }\n",
       "\n",
       "    .dataframe tbody tr th {\n",
       "        vertical-align: top;\n",
       "    }\n",
       "\n",
       "    .dataframe thead th {\n",
       "        text-align: right;\n",
       "    }\n",
       "</style>\n",
       "<table border=\"1\" class=\"dataframe\">\n",
       "  <thead>\n",
       "    <tr style=\"text-align: right;\">\n",
       "      <th></th>\n",
       "      <th>Date</th>\n",
       "      <th>SP500</th>\n",
       "    </tr>\n",
       "  </thead>\n",
       "  <tbody>\n",
       "    <tr>\n",
       "      <th>1259</th>\n",
       "      <td>01/06/2016</td>\n",
       "      <td>1990.26</td>\n",
       "    </tr>\n",
       "    <tr>\n",
       "      <th>1258</th>\n",
       "      <td>01/07/2016</td>\n",
       "      <td>1943.09</td>\n",
       "    </tr>\n",
       "    <tr>\n",
       "      <th>1257</th>\n",
       "      <td>01/08/2016</td>\n",
       "      <td>1922.03</td>\n",
       "    </tr>\n",
       "    <tr>\n",
       "      <th>1256</th>\n",
       "      <td>01/11/2016</td>\n",
       "      <td>1923.67</td>\n",
       "    </tr>\n",
       "    <tr>\n",
       "      <th>1255</th>\n",
       "      <td>01/12/2016</td>\n",
       "      <td>1938.68</td>\n",
       "    </tr>\n",
       "  </tbody>\n",
       "</table>\n",
       "</div>"
      ],
      "text/plain": [
       "            Date    SP500\n",
       "1259  01/06/2016  1990.26\n",
       "1258  01/07/2016  1943.09\n",
       "1257  01/08/2016  1922.03\n",
       "1256  01/11/2016  1923.67\n",
       "1255  01/12/2016  1938.68"
      ]
     },
     "execution_count": 28,
     "metadata": {},
     "output_type": "execute_result"
    }
   ],
   "source": [
    "sp500['Date'] = pd.to_datetime(sp500['Date'])\n",
    "sp500['Date'] = sp500['Date'].dt.strftime('%m/%d/%Y')\n",
    "sp500.head() "
   ]
  },
  {
   "cell_type": "code",
   "execution_count": 29,
   "metadata": {},
   "outputs": [
    {
     "data": {
      "text/html": [
       "<div>\n",
       "<style scoped>\n",
       "    .dataframe tbody tr th:only-of-type {\n",
       "        vertical-align: middle;\n",
       "    }\n",
       "\n",
       "    .dataframe tbody tr th {\n",
       "        vertical-align: top;\n",
       "    }\n",
       "\n",
       "    .dataframe thead th {\n",
       "        text-align: right;\n",
       "    }\n",
       "</style>\n",
       "<table border=\"1\" class=\"dataframe\">\n",
       "  <thead>\n",
       "    <tr style=\"text-align: right;\">\n",
       "      <th></th>\n",
       "      <th>SP500</th>\n",
       "    </tr>\n",
       "    <tr>\n",
       "      <th>Date</th>\n",
       "      <th></th>\n",
       "    </tr>\n",
       "  </thead>\n",
       "  <tbody>\n",
       "    <tr>\n",
       "      <th>01/06/2016</th>\n",
       "      <td>1990.26</td>\n",
       "    </tr>\n",
       "    <tr>\n",
       "      <th>01/07/2016</th>\n",
       "      <td>1943.09</td>\n",
       "    </tr>\n",
       "    <tr>\n",
       "      <th>01/08/2016</th>\n",
       "      <td>1922.03</td>\n",
       "    </tr>\n",
       "    <tr>\n",
       "      <th>01/11/2016</th>\n",
       "      <td>1923.67</td>\n",
       "    </tr>\n",
       "    <tr>\n",
       "      <th>01/12/2016</th>\n",
       "      <td>1938.68</td>\n",
       "    </tr>\n",
       "  </tbody>\n",
       "</table>\n",
       "</div>"
      ],
      "text/plain": [
       "              SP500\n",
       "Date               \n",
       "01/06/2016  1990.26\n",
       "01/07/2016  1943.09\n",
       "01/08/2016  1922.03\n",
       "01/11/2016  1923.67\n",
       "01/12/2016  1938.68"
      ]
     },
     "execution_count": 29,
     "metadata": {},
     "output_type": "execute_result"
    }
   ],
   "source": [
    "sp500 = sp500.set_index('Date') \n",
    "sp500.head() "
   ]
  },
  {
   "cell_type": "code",
   "execution_count": 30,
   "metadata": {},
   "outputs": [],
   "source": [
    "# join datasets together "
   ]
  },
  {
   "cell_type": "code",
   "execution_count": 31,
   "metadata": {},
   "outputs": [
    {
     "name": "stdout",
     "output_type": "stream",
     "text": [
      "                ETH    SP500\n",
      "Date                        \n",
      "03/10/2016    11.75  1989.57\n",
      "03/11/2016    11.95  2022.19\n",
      "03/14/2016    12.50  2019.64\n",
      "03/15/2016    13.06  2015.93\n",
      "03/16/2016    12.88  2027.22\n",
      "...             ...      ...\n",
      "12/30/2020   751.80  3732.04\n",
      "12/31/2020   735.94  3756.07\n",
      "01/04/2021  1042.40  3700.65\n",
      "01/05/2021  1099.52  3726.86\n",
      "01/06/2021  1207.77  3748.14\n",
      "\n",
      "[1216 rows x 2 columns]\n"
     ]
    }
   ],
   "source": [
    "data = eth.merge(sp500, how='inner',right_index = True, left_index=True) \n",
    "print(data) "
   ]
  },
  {
   "cell_type": "code",
   "execution_count": 32,
   "metadata": {},
   "outputs": [
    {
     "name": "stdout",
     "output_type": "stream",
     "text": [
      "(1216, 2)\n"
     ]
    }
   ],
   "source": [
    "print(data.shape)  "
   ]
  },
  {
   "cell_type": "code",
   "execution_count": 33,
   "metadata": {},
   "outputs": [
    {
     "name": "stdout",
     "output_type": "stream",
     "text": [
      "(1216, 2)\n"
     ]
    }
   ],
   "source": [
    "data = data.dropna() \n",
    "print(data.shape)"
   ]
  },
  {
   "cell_type": "code",
   "execution_count": 34,
   "metadata": {},
   "outputs": [],
   "source": [
    "# summary "
   ]
  },
  {
   "cell_type": "code",
   "execution_count": 35,
   "metadata": {
    "scrolled": true
   },
   "outputs": [
    {
     "data": {
      "text/html": [
       "<div>\n",
       "<style scoped>\n",
       "    .dataframe tbody tr th:only-of-type {\n",
       "        vertical-align: middle;\n",
       "    }\n",
       "\n",
       "    .dataframe tbody tr th {\n",
       "        vertical-align: top;\n",
       "    }\n",
       "\n",
       "    .dataframe thead th {\n",
       "        text-align: right;\n",
       "    }\n",
       "</style>\n",
       "<table border=\"1\" class=\"dataframe\">\n",
       "  <thead>\n",
       "    <tr style=\"text-align: right;\">\n",
       "      <th></th>\n",
       "      <th>ETH</th>\n",
       "      <th>SP500</th>\n",
       "    </tr>\n",
       "  </thead>\n",
       "  <tbody>\n",
       "    <tr>\n",
       "      <th>count</th>\n",
       "      <td>1216.000000</td>\n",
       "      <td>1216.000000</td>\n",
       "    </tr>\n",
       "    <tr>\n",
       "      <th>mean</th>\n",
       "      <td>250.569630</td>\n",
       "      <td>2716.167122</td>\n",
       "    </tr>\n",
       "    <tr>\n",
       "      <th>std</th>\n",
       "      <td>230.114055</td>\n",
       "      <td>408.206002</td>\n",
       "    </tr>\n",
       "    <tr>\n",
       "      <th>min</th>\n",
       "      <td>6.700000</td>\n",
       "      <td>1989.570000</td>\n",
       "    </tr>\n",
       "    <tr>\n",
       "      <th>25%</th>\n",
       "      <td>92.295000</td>\n",
       "      <td>2399.072500</td>\n",
       "    </tr>\n",
       "    <tr>\n",
       "      <th>50%</th>\n",
       "      <td>202.775000</td>\n",
       "      <td>2726.755000</td>\n",
       "    </tr>\n",
       "    <tr>\n",
       "      <th>75%</th>\n",
       "      <td>336.302500</td>\n",
       "      <td>2950.847500</td>\n",
       "    </tr>\n",
       "    <tr>\n",
       "      <th>max</th>\n",
       "      <td>1283.700000</td>\n",
       "      <td>3756.070000</td>\n",
       "    </tr>\n",
       "  </tbody>\n",
       "</table>\n",
       "</div>"
      ],
      "text/plain": [
       "               ETH        SP500\n",
       "count  1216.000000  1216.000000\n",
       "mean    250.569630  2716.167122\n",
       "std     230.114055   408.206002\n",
       "min       6.700000  1989.570000\n",
       "25%      92.295000  2399.072500\n",
       "50%     202.775000  2726.755000\n",
       "75%     336.302500  2950.847500\n",
       "max    1283.700000  3756.070000"
      ]
     },
     "execution_count": 35,
     "metadata": {},
     "output_type": "execute_result"
    }
   ],
   "source": [
    "data.describe()"
   ]
  },
  {
   "cell_type": "code",
   "execution_count": 36,
   "metadata": {},
   "outputs": [],
   "source": [
    "# visual summary"
   ]
  },
  {
   "cell_type": "code",
   "execution_count": 37,
   "metadata": {},
   "outputs": [
    {
     "data": {
      "text/plain": [
       "<AxesSubplot:>"
      ]
     },
     "execution_count": 37,
     "metadata": {},
     "output_type": "execute_result"
    },
    {
     "data": {
      "image/png": "[encoded data removed]",
      "text/plain": [
       "<Figure size 432x288 with 1 Axes>"
      ]
     },
     "metadata": {
      "needs_background": "light"
     },
     "output_type": "display_data"
    }
   ],
   "source": [
    "data.boxplot(column = ['ETH', 'SP500'], grid=False, rot=45, fontsize=15) "
   ]
  },
  {
   "cell_type": "code",
   "execution_count": 38,
   "metadata": {},
   "outputs": [],
   "source": [
    "# Null hypothesis, Alt. hypothesis, Modeling "
   ]
  },
  {
   "cell_type": "code",
   "execution_count": 39,
   "metadata": {},
   "outputs": [],
   "source": [
    "# Null hypothesis: There is no correlation between the performance of the S&P 500 and Ethereum during the past 5 years. \n",
    "# Alt. hypothesis: There is a correlation between the performance of the S&P 500 and Ethereum during the past 5 years.   "
   ]
  },
  {
   "cell_type": "code",
   "execution_count": null,
   "metadata": {},
   "outputs": [],
   "source": [
    "# Standardize the data before correlating and linear regression "
   ]
  },
  {
   "cell_type": "code",
   "execution_count": 44,
   "metadata": {},
   "outputs": [
    {
     "data": {
      "text/html": [
       "<div>\n",
       "<style scoped>\n",
       "    .dataframe tbody tr th:only-of-type {\n",
       "        vertical-align: middle;\n",
       "    }\n",
       "\n",
       "    .dataframe tbody tr th {\n",
       "        vertical-align: top;\n",
       "    }\n",
       "\n",
       "    .dataframe thead th {\n",
       "        text-align: right;\n",
       "    }\n",
       "</style>\n",
       "<table border=\"1\" class=\"dataframe\">\n",
       "  <thead>\n",
       "    <tr style=\"text-align: right;\">\n",
       "      <th></th>\n",
       "      <th>ETH</th>\n",
       "      <th>SP500</th>\n",
       "    </tr>\n",
       "  </thead>\n",
       "  <tbody>\n",
       "    <tr>\n",
       "      <th>0</th>\n",
       "      <td>-1.038259</td>\n",
       "      <td>-1.780709</td>\n",
       "    </tr>\n",
       "    <tr>\n",
       "      <th>1</th>\n",
       "      <td>-1.037389</td>\n",
       "      <td>-1.700765</td>\n",
       "    </tr>\n",
       "    <tr>\n",
       "      <th>2</th>\n",
       "      <td>-1.034998</td>\n",
       "      <td>-1.707015</td>\n",
       "    </tr>\n",
       "    <tr>\n",
       "      <th>3</th>\n",
       "      <td>-1.032563</td>\n",
       "      <td>-1.716107</td>\n",
       "    </tr>\n",
       "    <tr>\n",
       "      <th>4</th>\n",
       "      <td>-1.033346</td>\n",
       "      <td>-1.688438</td>\n",
       "    </tr>\n",
       "  </tbody>\n",
       "</table>\n",
       "</div>"
      ],
      "text/plain": [
       "        ETH     SP500\n",
       "0 -1.038259 -1.780709\n",
       "1 -1.037389 -1.700765\n",
       "2 -1.034998 -1.707015\n",
       "3 -1.032563 -1.716107\n",
       "4 -1.033346 -1.688438"
      ]
     },
     "execution_count": 44,
     "metadata": {},
     "output_type": "execute_result"
    }
   ],
   "source": [
    "from sklearn import preprocessing \n",
    "scaler = preprocessing.StandardScaler() \n",
    "scaled_data = scaler.fit_transform(data) \n",
    "scaled_data = pd.DataFrame(scaled_data, columns=['ETH', 'SP500']) \n",
    "scaled_data.head() "
   ]
  },
  {
   "cell_type": "code",
   "execution_count": 40,
   "metadata": {},
   "outputs": [],
   "source": [
    "# Correlation"
   ]
  },
  {
   "cell_type": "code",
   "execution_count": 45,
   "metadata": {},
   "outputs": [
    {
     "name": "stdout",
     "output_type": "stream",
     "text": [
      "            ETH     SP500\n",
      "ETH    1.000000  0.466259\n",
      "SP500  0.466259  1.000000\n"
     ]
    }
   ],
   "source": [
    "correlation = scaled_data.corr() \n",
    "print(correlation) "
   ]
  },
  {
   "cell_type": "code",
   "execution_count": 46,
   "metadata": {},
   "outputs": [
    {
     "data": {
      "image/png": "[encoded data removed]",
      "text/plain": [
       "<Figure size 432x288 with 2 Axes>"
      ]
     },
     "metadata": {
      "needs_background": "light"
     },
     "output_type": "display_data"
    }
   ],
   "source": [
    "sm.graphics.plot_corr(correlation,xnames=list(correlation.columns))\n",
    "plt.show() "
   ]
  },
  {
   "cell_type": "code",
   "execution_count": 48,
   "metadata": {},
   "outputs": [
    {
     "data": {
      "image/png": "[encoded data removed]",
      "text/plain": [
       "<Figure size 432x288 with 1 Axes>"
      ]
     },
     "metadata": {
      "needs_background": "light"
     },
     "output_type": "display_data"
    }
   ],
   "source": [
    "plt.scatter(scaled_data['ETH'], scaled_data['SP500']) \n",
    "plt.xlabel('ETH') \n",
    "plt.ylabel('S&P 500') \n",
    "x = scaled_data['ETH']\n",
    "y = scaled_data['SP500'] \n",
    "m, b = np.polyfit(x, y, 1) \n",
    "plt.plot(x, m*x + b) \n",
    "plt.show()"
   ]
  },
  {
   "cell_type": "code",
   "execution_count": 49,
   "metadata": {},
   "outputs": [
    {
     "name": "stdout",
     "output_type": "stream",
     "text": [
      "[[1.00082305 0.46664306]\n",
      " [0.46664306 1.00082305]]\n"
     ]
    }
   ],
   "source": [
    "covariance = np.cov(scaled_data['ETH'], scaled_data['SP500'])  \n",
    "print(covariance) "
   ]
  },
  {
   "cell_type": "code",
   "execution_count": 50,
   "metadata": {},
   "outputs": [
    {
     "name": "stdout",
     "output_type": "stream",
     "text": [
      "(0.4662593039301598, 1.172962869823389e-66)\n"
     ]
    }
   ],
   "source": [
    "import scipy.stats as stats\n",
    "pearson_r = stats.pearsonr(scaled_data['ETH'], scaled_data['SP500'])  \n",
    "print(pearson_r) "
   ]
  },
  {
   "cell_type": "code",
   "execution_count": 51,
   "metadata": {},
   "outputs": [
    {
     "name": "stdout",
     "output_type": "stream",
     "text": [
      "SpearmanrResult(correlation=0.5722639665247796, pvalue=1.0377746171226677e-106)\n"
     ]
    }
   ],
   "source": [
    "spearman_r = stats.spearmanr(scaled_data['ETH'], scaled_data['SP500']) \n",
    "print(spearman_r) "
   ]
  },
  {
   "cell_type": "code",
   "execution_count": 52,
   "metadata": {},
   "outputs": [
    {
     "data": {
      "text/plain": [
       "LinregressResult(slope=0.4662593039301599, intercept=-4.129726614559646e-17, rvalue=0.4662593039301599, pvalue=1.1729628698239437e-66, stderr=0.025389912600488222)"
      ]
     },
     "execution_count": 52,
     "metadata": {},
     "output_type": "execute_result"
    }
   ],
   "source": [
    "# Linear Regression \n",
    "from scipy.stats import linregress\n",
    "linregress(scaled_data['ETH'], scaled_data['SP500']) "
   ]
  },
  {
   "cell_type": "code",
   "execution_count": 53,
   "metadata": {},
   "outputs": [],
   "source": [
    "# Since our p-value is lower than 0.05 we can reject the null hypothesis, and therefore, we can statistically say that Ethereum and stock prices (S&P 500) are moving together."
   ]
  },
  {
   "cell_type": "code",
   "execution_count": 54,
   "metadata": {},
   "outputs": [],
   "source": [
    "# Split data into training and testing sets "
   ]
  },
  {
   "cell_type": "code",
   "execution_count": 55,
   "metadata": {},
   "outputs": [],
   "source": [
    "from sklearn.model_selection import train_test_split \n",
    "X = scaled_data['ETH'] \n",
    "y = scaled_data['SP500'] \n",
    "X_train, X_test, y_train, y_test = train_test_split(X, y, test_size= 0.25, random_state=42) "
   ]
  },
  {
   "cell_type": "code",
   "execution_count": null,
   "metadata": {},
   "outputs": [],
   "source": []
  }
 ],
 "metadata": {
  "kernelspec": {
   "display_name": "Python 3",
   "language": "python",
   "name": "python3"
  },
  "language_info": {
   "codemirror_mode": {
    "name": "ipython",
    "version": 3
   },
   "file_extension": ".py",
   "mimetype": "text/x-python",
   "name": "python",
   "nbconvert_exporter": "python",
   "pygments_lexer": "ipython3",
   "version": "3.8.5"
  }
 },
 "nbformat": 4,
 "nbformat_minor": 4
}
